{
 "cells": [
  {
   "cell_type": "code",
   "execution_count": null,
   "id": "33ee41d8",
   "metadata": {},
   "outputs": [],
   "source": [
    "import pandas as pd\n",
    "import matplotlib.pyplot as plt\n",
    "import seaborn as sns"
   ]
  },
  {
   "cell_type": "code",
   "execution_count": null,
   "id": "2562aed1-3581-493c-a17c-d5484375327c",
   "metadata": {},
   "outputs": [],
   "source": [
    "#veri çekme\n",
    "\n",
    "df = pd.read_csv(\"StudentsPerformance.csv\")\n",
    "df"
   ]
  },
  {
   "cell_type": "code",
   "execution_count": null,
   "id": "a68051e2",
   "metadata": {},
   "outputs": [],
   "source": [
    "#1 #dosyayı okuyalım\n",
    "\n",
    "df.head()"
   ]
  },
  {
   "cell_type": "code",
   "execution_count": null,
   "id": "d0ddb1a7",
   "metadata": {},
   "outputs": [],
   "source": [
    "#2 #kadın-erkek sayısına bakalım\n",
    "\n",
    "df[\"gender\"].value_counts()"
   ]
  },
  {
   "cell_type": "code",
   "execution_count": null,
   "id": "4810eaaf",
   "metadata": {},
   "outputs": [],
   "source": [
    "#3 #kadın-erkek sayısına histogram grafiği ile bakalım\n",
    "\n",
    "import pandas as pd\n",
    "import matplotlib.pyplot as plt\n",
    "import seaborn as sns\n",
    "\n",
    "df = pd.read_csv(\"StudentsPerformance.csv\")\n",
    "\n",
    "sns.countplot(y=\"gender\", data = df)\n",
    "plt.title(\"Cinsiyet Dağılımı\")\n",
    "plt.xlabel(\"Cinsiyet\")\n",
    "plt.ylabel(\"Öğrenci Sayısı\")\n",
    "plt.show()"
   ]
  },
  {
   "cell_type": "code",
   "execution_count": null,
   "id": "0ddc0277",
   "metadata": {},
   "outputs": [],
   "source": [
    "#4 #race/ethnicity sütununda kaç farklı grup olduğuna bakalım\n",
    "\n",
    "race_gruplar = df[\"race/ethnicity\"].unique()\n",
    "sirali_race_gruplar = sorted(race_gruplar)\n",
    "print(\"Gruplar:\", sirali_race_gruplar)\n",
    "\n",
    "race_grup_sayisi = df[\"race/ethnicity\"].nunique()\n",
    "print(race_grup_sayisi, \" tane grup vardır.\")"
   ]
  },
  {
   "cell_type": "code",
   "execution_count": null,
   "id": "dceebc62",
   "metadata": {},
   "outputs": [],
   "source": [
    "race = df[\"race/ethnicity\"].value_counts()\n",
    "race"
   ]
  },
  {
   "cell_type": "code",
   "execution_count": null,
   "id": "238e8a54",
   "metadata": {},
   "outputs": [],
   "source": [
    "#5 #yukarıda bulduğumuzu görselleştirelim\n",
    "\n",
    "sns.countplot(x=\"race/ethnicity\", data = df)\n",
    "plt.title(\"Etnik Köken Dağılımı\")\n",
    "plt.xlabel(\"Etnik Köken\")\n",
    "plt.ylabel(\"Öğrenci Sayısı\")\n",
    "plt.show()"
   ]
  },
  {
   "cell_type": "code",
   "execution_count": null,
   "id": "f853caba",
   "metadata": {},
   "outputs": [],
   "source": [
    "#6 #parental level of education sütunundaki eşsiz değerleri bulalım\n",
    "\n",
    "df[\"parental level of education\"].unique()"
   ]
  },
  {
   "cell_type": "code",
   "execution_count": null,
   "id": "5adac7c8",
   "metadata": {},
   "outputs": [],
   "source": [
    "df[\"parental level of education\"].value_counts()"
   ]
  },
  {
   "cell_type": "code",
   "execution_count": null,
   "id": "ed8a3d98",
   "metadata": {},
   "outputs": [],
   "source": [
    "#7 #lunch sütununda eşsiz değerlere ulaşalım\n",
    "\n",
    "df[\"lunch\"].unique()"
   ]
  },
  {
   "cell_type": "code",
   "execution_count": null,
   "id": "5e482872",
   "metadata": {},
   "outputs": [],
   "source": [
    "#8 #lunch türlerinde kaçar kişi olduğunu bulalım\n",
    "\n",
    "sns.countplot(x = \"lunch\", data = df)\n",
    "plt.title(\"Öğle Yemeği Dağılımı\")\n",
    "plt.xlabel(\"Öğle Yemeği Alternatifleri\")\n",
    "plt.ylabel(\"Öğrenci Sayısı\")\n",
    "plt.show()"
   ]
  },
  {
   "cell_type": "code",
   "execution_count": null,
   "id": "266cf2a8",
   "metadata": {},
   "outputs": [],
   "source": [
    "df[\"test preparation course\"].value_counts()"
   ]
  },
  {
   "cell_type": "code",
   "execution_count": null,
   "id": "a781b74d",
   "metadata": {},
   "outputs": [],
   "source": [
    "#9 #gender sütunundaki değerler için ortalama math score, reading score, writing score değerlerini bulalım.\n",
    "\n",
    "cinsiyete_gore_not_ortalamalari = df.groupby(\"gender\")[[\"math score\", \"reading score\", \"writing score\"]].mean()\n",
    "print(\"Cinsiyetine göre öğrencilerin derslerdeki not ortalamaları:\")\n",
    "print(\" \")\n",
    "print(cinsiyete_gore_not_ortalamalari)"
   ]
  },
  {
   "cell_type": "code",
   "execution_count": null,
   "id": "21baad42",
   "metadata": {},
   "outputs": [],
   "source": [
    "#10 #race/ethnicity sütunundaki değerler için ortalama math score, reading score, writing score değerlerini bulalım.\n",
    "\n",
    "kokene_gore_not_ortalamalari = df.groupby(\"race/ethnicity\")[[\"math score\", \"reading score\", \"writing score\"]].mean()\n",
    "print(\"Etnik kökenine göre öğrencilerin derslerdeki not ortalamaları:\")\n",
    "print(\" \")\n",
    "print(kokene_gore_not_ortalamalari)"
   ]
  },
  {
   "cell_type": "code",
   "execution_count": null,
   "id": "2b6515b8",
   "metadata": {},
   "outputs": [],
   "source": [
    "#11 #parental level of education sütunundaki değerler için ortalama math score, reading score, writing score değerlerini bulalım.\n",
    "\n",
    "ebeveyn_egitimine_gore_not_ortalamalari = df.groupby(\"parental level of education\")[[\"math score\", \"reading score\", \"writing score\"]].mean()\n",
    "print(\"Ebeveynlerinin eğitim düzeyine göre öğrencilerin derslerdeki not ortalamaları:\")\n",
    "print(\" \")\n",
    "print(ebeveyn_egitimine_gore_not_ortalamalari)"
   ]
  },
  {
   "cell_type": "code",
   "execution_count": null,
   "id": "0fef018d",
   "metadata": {},
   "outputs": [],
   "source": [
    "#12 #lunch sütunundaki değerler için ortalama math score, reading score, writing score değerlerini bulalım.\n",
    "\n",
    "ogle_yemegine_gore_not_ortalamalari = df.groupby(\"lunch\")[[\"math score\", \"reading score\", \"writing score\"]].mean()\n",
    "print(\"Öğle yemeği tercihlerine göre öğrencilerin derslerdeki not ortalamaları:\")\n",
    "print(\" \")\n",
    "print(ogle_yemegine_gore_not_ortalamalari)"
   ]
  },
  {
   "cell_type": "code",
   "execution_count": null,
   "id": "b3cd6869",
   "metadata": {},
   "outputs": [],
   "source": [
    "#13 #test preparation coursesütunundaki değerler için ortalama math score, reading score, writing score değerlerini bulalım.\n",
    "\n",
    "kursa_gore_not_ortalamalari = df.groupby(\"test preparation course\")[[\"math score\", \"reading score\", \"writing score\"]].mean()\n",
    "print(\"Sınav için hazırlık kursuna katılım durumlarına göre öğrencilerin derslerdeki not ortalamaları:\")\n",
    "print(\" \")\n",
    "print(kursa_gore_not_ortalamalari)"
   ]
  }
 ],
 "metadata": {
  "kernelspec": {
   "display_name": "Python [conda env:base] *",
   "language": "python",
   "name": "conda-base-py"
  },
  "language_info": {
   "codemirror_mode": {
    "name": "ipython",
    "version": 3
   },
   "file_extension": ".py",
   "mimetype": "text/x-python",
   "name": "python",
   "nbconvert_exporter": "python",
   "pygments_lexer": "ipython3",
   "version": "3.12.7"
  }
 },
 "nbformat": 4,
 "nbformat_minor": 5
}
